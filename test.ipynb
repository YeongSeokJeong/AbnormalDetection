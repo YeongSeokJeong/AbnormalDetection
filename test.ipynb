{
 "cells": [
  {
   "cell_type": "code",
   "execution_count": 1,
   "outputs": [],
   "source": [
    "import hydra\n",
    "import torch\n",
    "import pytorch_lightning as pl\n",
    "from hydra.core.global_hydra import GlobalHydra\n",
    "import itertools"
   ],
   "metadata": {
    "collapsed": false,
    "pycharm": {
     "name": "#%%\n"
    }
   }
  },
  {
   "cell_type": "code",
   "execution_count": 2,
   "outputs": [],
   "source": [
    "data_dir = 'D:/open/'\n",
    "\n",
    "config_yaml_path = \"logs/runs/efficientnet_b0/2022-04-07/17-22-47/.hydra/config.yaml\"\n",
    "ckpt_path = 'logs/runs/efficientnet_b0/2022-04-07/17-22-47/checkpoints/epoch=00.ckpt'\n",
    "\n",
    "submission_file_name = 'submission'\n"
   ],
   "metadata": {
    "collapsed": false,
    "pycharm": {
     "name": "#%%\n"
    }
   }
  },
  {
   "cell_type": "code",
   "execution_count": 7,
   "outputs": [],
   "source": [
    "def load_model_with_config(config_path, checkpoint_path):\n",
    "    config_path = config_path.replace('\\\\','/')\n",
    "    config_dir = '/'.join(config_path.split('/')[:-1])\n",
    "    config_name = config_path.split('/')[-1]\n",
    "    GlobalHydra.instance().clear()\n",
    "    hydra.initialize(config_path = config_dir)\n",
    "    cfg = hydra.compose(config_name=config_name)\n",
    "    model = hydra.utils.instantiate(cfg['framework'])\n",
    "    model.load_state_dict(torch.load(checkpoint_path, map_location='cpu')['state_dict'])\n",
    "    return model\n",
    "\n",
    "def load_datasets_with_config(config_path, data_dir, num_workers=0):\n",
    "    config_path = config_path.replace('\\\\','/')\n",
    "    config_dir = '/'.join(config_path.split('/')[:-1])\n",
    "    config_name = config_path.split('/')[-1]\n",
    "    GlobalHydra.instance().clear()\n",
    "    hydra.initialize(config_path = config_dir)\n",
    "    cfg = hydra.compose(config_name=config_name)\n",
    "    datasets = hydra.utils.instantiate(cfg['dataloader']['datasets'],\n",
    "                                       data_root=data_dir,\n",
    "                                       is_test=True,\n",
    "                                       num_workers=num_workers)\n",
    "    return datasets\n",
    "\n",
    "def get_pred(model, test_data_loader, gpus=[0]):\n",
    "    trainer = pl.Trainer(gpus=gpus)\n",
    "    preds = trainer.predict(model, test_data_loader)\n",
    "    img_idx = list(itertools.chain(*[list(pred[0]) for pred in preds]))\n",
    "    preds = torch.cat([pred[1] for pred in preds], dim=0)\n",
    "    return img_idx, preds"
   ],
   "metadata": {
    "collapsed": false,
    "pycharm": {
     "name": "#%%\n"
    }
   }
  },
  {
   "cell_type": "code",
   "execution_count": 8,
   "outputs": [],
   "source": [
    "# load_model/dataloader\n",
    "model = load_model_with_config(config_yaml_path, ckpt_path)\n",
    "datasets = load_datasets_with_config(config_yaml_path, data_dir)\n",
    "test_loader =datasets.get_test_dataloaders()"
   ],
   "metadata": {
    "collapsed": false,
    "pycharm": {
     "name": "#%%\n"
    }
   }
  },
  {
   "cell_type": "code",
   "execution_count": 9,
   "outputs": [
    {
     "name": "stderr",
     "output_type": "stream",
     "text": [
      "GPU available: True, used: True\n",
      "TPU available: False, using: 0 TPU cores\n",
      "IPU available: False, using: 0 IPUs\n",
      "LOCAL_RANK: 0 - CUDA_VISIBLE_DEVICES: [0]\n",
      "C:\\Users\\user\\anaconda3\\envs\\abnormal2\\lib\\site-packages\\pytorch_lightning\\trainer\\data_loading.py:105: UserWarning: The dataloader, predict dataloader 0, does not have many workers which may be a bottleneck. Consider increasing the value of the `num_workers` argument` (try 4 which is the number of cpus on this machine) in the `DataLoader` init to improve performance.\n",
      "  rank_zero_warn(\n"
     ]
    },
    {
     "data": {
      "text/plain": "Predicting: 0it [00:00, ?it/s]",
      "application/vnd.jupyter.widget-view+json": {
       "version_major": 2,
       "version_minor": 0,
       "model_id": "da7c4253831340669bb9caceb0262e62"
      }
     },
     "metadata": {},
     "output_type": "display_data"
    },
    {
     "ename": "IndexError",
     "evalue": "list index out of range",
     "output_type": "error",
     "traceback": [
      "\u001B[1;31m---------------------------------------------------------------------------\u001B[0m",
      "\u001B[1;31mIndexError\u001B[0m                                Traceback (most recent call last)",
      "Input \u001B[1;32mIn [9]\u001B[0m, in \u001B[0;36m<cell line: 1>\u001B[1;34m()\u001B[0m\n\u001B[1;32m----> 1\u001B[0m pred \u001B[38;5;241m=\u001B[39m \u001B[43mget_pred\u001B[49m\u001B[43m(\u001B[49m\u001B[43mmodel\u001B[49m\u001B[43m,\u001B[49m\u001B[43m \u001B[49m\u001B[43mtest_loader\u001B[49m\u001B[43m)\u001B[49m\n",
      "Input \u001B[1;32mIn [7]\u001B[0m, in \u001B[0;36mget_pred\u001B[1;34m(model, test_data_loader, gpus)\u001B[0m\n\u001B[0;32m     25\u001B[0m \u001B[38;5;28;01mdef\u001B[39;00m \u001B[38;5;21mget_pred\u001B[39m(model, test_data_loader, gpus\u001B[38;5;241m=\u001B[39m[\u001B[38;5;241m0\u001B[39m]):\n\u001B[0;32m     26\u001B[0m     trainer \u001B[38;5;241m=\u001B[39m pl\u001B[38;5;241m.\u001B[39mTrainer(gpus\u001B[38;5;241m=\u001B[39mgpus)\n\u001B[1;32m---> 27\u001B[0m     preds \u001B[38;5;241m=\u001B[39m \u001B[43mtrainer\u001B[49m\u001B[38;5;241;43m.\u001B[39;49m\u001B[43mpredict\u001B[49m\u001B[43m(\u001B[49m\u001B[43mmodel\u001B[49m\u001B[43m,\u001B[49m\u001B[43m \u001B[49m\u001B[43mtest_data_loader\u001B[49m\u001B[43m)\u001B[49m\n\u001B[0;32m     28\u001B[0m     img_idx \u001B[38;5;241m=\u001B[39m torch\u001B[38;5;241m.\u001B[39mcat([pred[\u001B[38;5;241m0\u001B[39m] \u001B[38;5;28;01mfor\u001B[39;00m pred \u001B[38;5;129;01min\u001B[39;00m preds], dim \u001B[38;5;241m=\u001B[39m \u001B[38;5;241m0\u001B[39m)\n\u001B[0;32m     29\u001B[0m     preds \u001B[38;5;241m=\u001B[39m torch\u001B[38;5;241m.\u001B[39mcat([pred[\u001B[38;5;241m1\u001B[39m] \u001B[38;5;28;01mfor\u001B[39;00m pred \u001B[38;5;129;01min\u001B[39;00m preds], dim \u001B[38;5;241m=\u001B[39m \u001B[38;5;241m0\u001B[39m)\n",
      "File \u001B[1;32m~\\anaconda3\\envs\\abnormal2\\lib\\site-packages\\pytorch_lightning\\trainer\\trainer.py:775\u001B[0m, in \u001B[0;36mTrainer.predict\u001B[1;34m(self, model, dataloaders, datamodule, return_predictions, ckpt_path)\u001B[0m\n\u001B[0;32m    772\u001B[0m \u001B[38;5;28;01mif\u001B[39;00m \u001B[38;5;129;01mnot\u001B[39;00m model_provided:\n\u001B[0;32m    773\u001B[0m     \u001B[38;5;28mself\u001B[39m\u001B[38;5;241m.\u001B[39mpredicted_ckpt_path \u001B[38;5;241m=\u001B[39m \u001B[38;5;28mself\u001B[39m\u001B[38;5;241m.\u001B[39m__load_ckpt_weights(ckpt_path)\n\u001B[1;32m--> 775\u001B[0m results \u001B[38;5;241m=\u001B[39m \u001B[38;5;28;43mself\u001B[39;49m\u001B[38;5;241;43m.\u001B[39;49m\u001B[43m_run\u001B[49m\u001B[43m(\u001B[49m\u001B[43mmodel\u001B[49m\u001B[43m)\u001B[49m\n\u001B[0;32m    777\u001B[0m \u001B[38;5;28;01massert\u001B[39;00m \u001B[38;5;28mself\u001B[39m\u001B[38;5;241m.\u001B[39mstate\u001B[38;5;241m.\u001B[39mstopped\n\u001B[0;32m    778\u001B[0m \u001B[38;5;28mself\u001B[39m\u001B[38;5;241m.\u001B[39mpredicting \u001B[38;5;241m=\u001B[39m \u001B[38;5;28;01mFalse\u001B[39;00m\n",
      "File \u001B[1;32m~\\anaconda3\\envs\\abnormal2\\lib\\site-packages\\pytorch_lightning\\trainer\\trainer.py:922\u001B[0m, in \u001B[0;36mTrainer._run\u001B[1;34m(self, model)\u001B[0m\n\u001B[0;32m    919\u001B[0m \u001B[38;5;28mself\u001B[39m\u001B[38;5;241m.\u001B[39mcheckpoint_connector\u001B[38;5;241m.\u001B[39mrestore_training_state()\n\u001B[0;32m    921\u001B[0m \u001B[38;5;66;03m# dispatch `start_training` or `start_evaluating` or `start_predicting`\u001B[39;00m\n\u001B[1;32m--> 922\u001B[0m \u001B[38;5;28;43mself\u001B[39;49m\u001B[38;5;241;43m.\u001B[39;49m\u001B[43m_dispatch\u001B[49m\u001B[43m(\u001B[49m\u001B[43m)\u001B[49m\n\u001B[0;32m    924\u001B[0m \u001B[38;5;66;03m# plugin will finalized fitting (e.g. ddp_spawn will load trained model)\u001B[39;00m\n\u001B[0;32m    925\u001B[0m \u001B[38;5;28mself\u001B[39m\u001B[38;5;241m.\u001B[39m_post_dispatch()\n",
      "File \u001B[1;32m~\\anaconda3\\envs\\abnormal2\\lib\\site-packages\\pytorch_lightning\\trainer\\trainer.py:988\u001B[0m, in \u001B[0;36mTrainer._dispatch\u001B[1;34m(self)\u001B[0m\n\u001B[0;32m    986\u001B[0m     \u001B[38;5;28mself\u001B[39m\u001B[38;5;241m.\u001B[39maccelerator\u001B[38;5;241m.\u001B[39mstart_evaluating(\u001B[38;5;28mself\u001B[39m)\n\u001B[0;32m    987\u001B[0m \u001B[38;5;28;01melif\u001B[39;00m \u001B[38;5;28mself\u001B[39m\u001B[38;5;241m.\u001B[39mpredicting:\n\u001B[1;32m--> 988\u001B[0m     \u001B[38;5;28;43mself\u001B[39;49m\u001B[38;5;241;43m.\u001B[39;49m\u001B[43maccelerator\u001B[49m\u001B[38;5;241;43m.\u001B[39;49m\u001B[43mstart_predicting\u001B[49m\u001B[43m(\u001B[49m\u001B[38;5;28;43mself\u001B[39;49m\u001B[43m)\u001B[49m\n\u001B[0;32m    989\u001B[0m \u001B[38;5;28;01melse\u001B[39;00m:\n\u001B[0;32m    990\u001B[0m     \u001B[38;5;28mself\u001B[39m\u001B[38;5;241m.\u001B[39maccelerator\u001B[38;5;241m.\u001B[39mstart_training(\u001B[38;5;28mself\u001B[39m)\n",
      "File \u001B[1;32m~\\anaconda3\\envs\\abnormal2\\lib\\site-packages\\pytorch_lightning\\accelerators\\accelerator.py:98\u001B[0m, in \u001B[0;36mAccelerator.start_predicting\u001B[1;34m(self, trainer)\u001B[0m\n\u001B[0;32m     97\u001B[0m \u001B[38;5;28;01mdef\u001B[39;00m \u001B[38;5;21mstart_predicting\u001B[39m(\u001B[38;5;28mself\u001B[39m, trainer: \u001B[38;5;124m\"\u001B[39m\u001B[38;5;124mpl.Trainer\u001B[39m\u001B[38;5;124m\"\u001B[39m) \u001B[38;5;241m-\u001B[39m\u001B[38;5;241m>\u001B[39m \u001B[38;5;28;01mNone\u001B[39;00m:\n\u001B[1;32m---> 98\u001B[0m     \u001B[38;5;28;43mself\u001B[39;49m\u001B[38;5;241;43m.\u001B[39;49m\u001B[43mtraining_type_plugin\u001B[49m\u001B[38;5;241;43m.\u001B[39;49m\u001B[43mstart_predicting\u001B[49m\u001B[43m(\u001B[49m\u001B[43mtrainer\u001B[49m\u001B[43m)\u001B[49m\n",
      "File \u001B[1;32m~\\anaconda3\\envs\\abnormal2\\lib\\site-packages\\pytorch_lightning\\plugins\\training_type\\training_type_plugin.py:169\u001B[0m, in \u001B[0;36mTrainingTypePlugin.start_predicting\u001B[1;34m(self, trainer)\u001B[0m\n\u001B[0;32m    167\u001B[0m \u001B[38;5;28;01mdef\u001B[39;00m \u001B[38;5;21mstart_predicting\u001B[39m(\u001B[38;5;28mself\u001B[39m, trainer: \u001B[38;5;124m\"\u001B[39m\u001B[38;5;124mpl.Trainer\u001B[39m\u001B[38;5;124m\"\u001B[39m) \u001B[38;5;241m-\u001B[39m\u001B[38;5;241m>\u001B[39m \u001B[38;5;28;01mNone\u001B[39;00m:\n\u001B[0;32m    168\u001B[0m     \u001B[38;5;66;03m# double dispatch to initiate the predicting loop\u001B[39;00m\n\u001B[1;32m--> 169\u001B[0m     \u001B[38;5;28mself\u001B[39m\u001B[38;5;241m.\u001B[39m_results \u001B[38;5;241m=\u001B[39m \u001B[43mtrainer\u001B[49m\u001B[38;5;241;43m.\u001B[39;49m\u001B[43mrun_stage\u001B[49m\u001B[43m(\u001B[49m\u001B[43m)\u001B[49m\n",
      "File \u001B[1;32m~\\anaconda3\\envs\\abnormal2\\lib\\site-packages\\pytorch_lightning\\trainer\\trainer.py:999\u001B[0m, in \u001B[0;36mTrainer.run_stage\u001B[1;34m(self)\u001B[0m\n\u001B[0;32m    997\u001B[0m     \u001B[38;5;28;01mreturn\u001B[39;00m \u001B[38;5;28mself\u001B[39m\u001B[38;5;241m.\u001B[39m_run_evaluate()\n\u001B[0;32m    998\u001B[0m \u001B[38;5;28;01mif\u001B[39;00m \u001B[38;5;28mself\u001B[39m\u001B[38;5;241m.\u001B[39mpredicting:\n\u001B[1;32m--> 999\u001B[0m     \u001B[38;5;28;01mreturn\u001B[39;00m \u001B[38;5;28;43mself\u001B[39;49m\u001B[38;5;241;43m.\u001B[39;49m\u001B[43m_run_predict\u001B[49m\u001B[43m(\u001B[49m\u001B[43m)\u001B[49m\n\u001B[0;32m   1000\u001B[0m \u001B[38;5;28;01mreturn\u001B[39;00m \u001B[38;5;28mself\u001B[39m\u001B[38;5;241m.\u001B[39m_run_train()\n",
      "File \u001B[1;32m~\\anaconda3\\envs\\abnormal2\\lib\\site-packages\\pytorch_lightning\\trainer\\trainer.py:1099\u001B[0m, in \u001B[0;36mTrainer._run_predict\u001B[1;34m(self)\u001B[0m\n\u001B[0;32m   1097\u001B[0m \u001B[38;5;28mself\u001B[39m\u001B[38;5;241m.\u001B[39mpredict_loop\u001B[38;5;241m.\u001B[39mtrainer \u001B[38;5;241m=\u001B[39m \u001B[38;5;28mself\u001B[39m\n\u001B[0;32m   1098\u001B[0m \u001B[38;5;28;01mwith\u001B[39;00m torch\u001B[38;5;241m.\u001B[39mno_grad():\n\u001B[1;32m-> 1099\u001B[0m     \u001B[38;5;28;01mreturn\u001B[39;00m \u001B[38;5;28;43mself\u001B[39;49m\u001B[38;5;241;43m.\u001B[39;49m\u001B[43mpredict_loop\u001B[49m\u001B[38;5;241;43m.\u001B[39;49m\u001B[43mrun\u001B[49m\u001B[43m(\u001B[49m\u001B[43m)\u001B[49m\n",
      "File \u001B[1;32m~\\anaconda3\\envs\\abnormal2\\lib\\site-packages\\pytorch_lightning\\loops\\base.py:118\u001B[0m, in \u001B[0;36mLoop.run\u001B[1;34m(self, *args, **kwargs)\u001B[0m\n\u001B[0;32m    115\u001B[0m     \u001B[38;5;28;01mexcept\u001B[39;00m \u001B[38;5;167;01mStopIteration\u001B[39;00m:\n\u001B[0;32m    116\u001B[0m         \u001B[38;5;28;01mbreak\u001B[39;00m\n\u001B[1;32m--> 118\u001B[0m output \u001B[38;5;241m=\u001B[39m \u001B[38;5;28;43mself\u001B[39;49m\u001B[38;5;241;43m.\u001B[39;49m\u001B[43mon_run_end\u001B[49m\u001B[43m(\u001B[49m\u001B[43m)\u001B[49m\n\u001B[0;32m    119\u001B[0m \u001B[38;5;28;01mreturn\u001B[39;00m output\n",
      "File \u001B[1;32m~\\anaconda3\\envs\\abnormal2\\lib\\site-packages\\pytorch_lightning\\loops\\dataloader\\prediction_loop.py:99\u001B[0m, in \u001B[0;36mPredictionLoop.on_run_end\u001B[1;34m(self)\u001B[0m\n\u001B[0;32m     97\u001B[0m \u001B[38;5;28;01mdef\u001B[39;00m \u001B[38;5;21mon_run_end\u001B[39m(\u001B[38;5;28mself\u001B[39m) \u001B[38;5;241m-\u001B[39m\u001B[38;5;241m>\u001B[39m Union[List[Any], List[List[Any]]]:\n\u001B[0;32m     98\u001B[0m     \u001B[38;5;124;03m\"\"\"Calls ``on_predict_epoch_end`` and ``on_predict_end`` hooks and returns results from all dataloaders\"\"\"\u001B[39;00m\n\u001B[1;32m---> 99\u001B[0m     results \u001B[38;5;241m=\u001B[39m \u001B[38;5;28;43mself\u001B[39;49m\u001B[38;5;241;43m.\u001B[39;49m\u001B[43mon_predict_epoch_end\u001B[49m\u001B[43m(\u001B[49m\u001B[43m)\u001B[49m\n\u001B[0;32m    100\u001B[0m     \u001B[38;5;28mself\u001B[39m\u001B[38;5;241m.\u001B[39mon_predict_end()\n\u001B[0;32m    101\u001B[0m     \u001B[38;5;28;01mreturn\u001B[39;00m results\n",
      "File \u001B[1;32m~\\anaconda3\\envs\\abnormal2\\lib\\site-packages\\pytorch_lightning\\loops\\dataloader\\prediction_loop.py:126\u001B[0m, in \u001B[0;36mPredictionLoop.on_predict_epoch_end\u001B[1;34m(self)\u001B[0m\n\u001B[0;32m    122\u001B[0m \u001B[38;5;28mself\u001B[39m\u001B[38;5;241m.\u001B[39mtrainer\u001B[38;5;241m.\u001B[39mprofiler\u001B[38;5;241m.\u001B[39mdescribe()\n\u001B[0;32m    124\u001B[0m results \u001B[38;5;241m=\u001B[39m \u001B[38;5;28mself\u001B[39m\u001B[38;5;241m.\u001B[39mpredictions\n\u001B[1;32m--> 126\u001B[0m \u001B[38;5;28;43mself\u001B[39;49m\u001B[38;5;241;43m.\u001B[39;49m\u001B[43mtrainer\u001B[49m\u001B[38;5;241;43m.\u001B[39;49m\u001B[43mcall_hook\u001B[49m\u001B[43m(\u001B[49m\u001B[38;5;124;43m\"\u001B[39;49m\u001B[38;5;124;43mon_predict_epoch_end\u001B[39;49m\u001B[38;5;124;43m\"\u001B[39;49m\u001B[43m,\u001B[49m\u001B[43m \u001B[49m\u001B[43mresults\u001B[49m\u001B[43m)\u001B[49m\n\u001B[0;32m    128\u001B[0m \u001B[38;5;28;01mif\u001B[39;00m \u001B[38;5;28mself\u001B[39m\u001B[38;5;241m.\u001B[39mreturn_predictions:\n\u001B[0;32m    129\u001B[0m     \u001B[38;5;28;01mreturn\u001B[39;00m results[\u001B[38;5;241m0\u001B[39m] \u001B[38;5;28;01mif\u001B[39;00m \u001B[38;5;28mself\u001B[39m\u001B[38;5;241m.\u001B[39mnum_dataloaders \u001B[38;5;241m==\u001B[39m \u001B[38;5;241m1\u001B[39m \u001B[38;5;28;01melse\u001B[39;00m results\n",
      "File \u001B[1;32m~\\anaconda3\\envs\\abnormal2\\lib\\site-packages\\pytorch_lightning\\trainer\\trainer.py:1235\u001B[0m, in \u001B[0;36mTrainer.call_hook\u001B[1;34m(self, hook_name, *args, **kwargs)\u001B[0m\n\u001B[0;32m   1233\u001B[0m \u001B[38;5;28;01mif\u001B[39;00m is_overridden(hook_name, model_ref):\n\u001B[0;32m   1234\u001B[0m     hook_fx \u001B[38;5;241m=\u001B[39m \u001B[38;5;28mgetattr\u001B[39m(model_ref, hook_name)\n\u001B[1;32m-> 1235\u001B[0m     output \u001B[38;5;241m=\u001B[39m hook_fx(\u001B[38;5;241m*\u001B[39margs, \u001B[38;5;241m*\u001B[39m\u001B[38;5;241m*\u001B[39mkwargs)\n\u001B[0;32m   1237\u001B[0m \u001B[38;5;66;03m# call the accelerator hook\u001B[39;00m\n\u001B[0;32m   1238\u001B[0m \u001B[38;5;28;01mif\u001B[39;00m \u001B[38;5;28mhasattr\u001B[39m(\u001B[38;5;28mself\u001B[39m\u001B[38;5;241m.\u001B[39maccelerator, hook_name):\n",
      "File \u001B[1;32mD:\\AbnormalDetection\\src\\pl_models\\base_pl_module.py:60\u001B[0m, in \u001B[0;36mBasePlModule.on_predict_epoch_end\u001B[1;34m(self, results)\u001B[0m\n\u001B[0;32m     58\u001B[0m \u001B[38;5;28;01mdef\u001B[39;00m \u001B[38;5;21mon_predict_epoch_end\u001B[39m(\u001B[38;5;28mself\u001B[39m, results):\n\u001B[0;32m     59\u001B[0m     img_idxes \u001B[38;5;241m=\u001B[39m results[\u001B[38;5;241m0\u001B[39m]\n\u001B[1;32m---> 60\u001B[0m     preds \u001B[38;5;241m=\u001B[39m \u001B[43mresults\u001B[49m\u001B[43m[\u001B[49m\u001B[38;5;241;43m1\u001B[39;49m\u001B[43m]\u001B[49m\n",
      "\u001B[1;31mIndexError\u001B[0m: list index out of range"
     ]
    }
   ],
   "source": [
    "img_idx, pred_scores = get_pred(model, test_loader)\n",
    "pred_scores = torch.argmax(pred_scores, dim=-1).detach().cpu().numpy()"
   ],
   "metadata": {
    "collapsed": false,
    "pycharm": {
     "name": "#%%\n"
    }
   }
  },
  {
   "cell_type": "code",
   "execution_count": 9,
   "outputs": [
    {
     "data": {
      "text/plain": "(('16',\n  '17',\n  '18',\n  '19',\n  '20',\n  '21',\n  '22',\n  '23',\n  '24',\n  '25',\n  '26',\n  '27',\n  '28',\n  '29',\n  '30',\n  '31'),\n tensor([[1.1001e-05, 1.0479e-05, 1.0774e-06,  ..., 2.6837e-05, 6.0762e-06,\n          4.2351e-06],\n         [2.7773e-05, 1.3224e-04, 1.4810e-04,  ..., 5.9882e-05, 2.3941e-04,\n          9.0928e-05],\n         [1.2573e-04, 4.5162e-04, 2.6498e-04,  ..., 1.4838e-04, 7.5741e-04,\n          2.0776e-03],\n         ...,\n         [3.2622e-06, 3.3817e-06, 6.4151e-06,  ..., 9.9302e-06, 7.5967e-06,\n          9.2353e-06],\n         [6.3186e-06, 1.6952e-05, 1.6690e-04,  ..., 1.6599e-05, 2.0488e-06,\n          2.9576e-05],\n         [1.8927e-04, 2.4346e-04, 1.0748e-04,  ..., 3.1579e-04, 6.7759e-05,\n          6.3946e-05]], device='cuda:0'))"
     },
     "execution_count": 9,
     "metadata": {},
     "output_type": "execute_result"
    }
   ],
   "source": [
    "idx2label = datasets.get_idx2label()\n",
    "with open(f'{submission_file_name}.csv', 'w') as f:\n",
    "    f.write('index,label\\n')\n",
    "    for idx, pred_class in zip(img_idx, pred_scores):\n",
    "        f.write(f'{idx},{idx2label[pred_class]}\\n')\n"
   ],
   "metadata": {
    "collapsed": false,
    "pycharm": {
     "name": "#%%\n"
    }
   }
  },
  {
   "cell_type": "code",
   "execution_count": null,
   "outputs": [],
   "source": [],
   "metadata": {
    "collapsed": false,
    "pycharm": {
     "name": "#%%\n"
    }
   }
  }
 ],
 "metadata": {
  "kernelspec": {
   "name": "pycharm-5ce39102",
   "language": "python",
   "display_name": "PyCharm (AbnormalDetection)"
  },
  "language_info": {
   "codemirror_mode": {
    "name": "ipython",
    "version": 2
   },
   "file_extension": ".py",
   "mimetype": "text/x-python",
   "name": "python",
   "nbconvert_exporter": "python",
   "pygments_lexer": "ipython2",
   "version": "2.7.6"
  }
 },
 "nbformat": 4,
 "nbformat_minor": 0
}