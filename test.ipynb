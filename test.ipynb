{
 "cells": [
  {
   "cell_type": "code",
   "execution_count": 1,
   "outputs": [],
   "source": [
    "import hydra\n",
    "import torch\n",
    "import pytorch_lightning as pl\n",
    "from hydra.core.global_hydra import GlobalHydra\n",
    "import itertools"
   ],
   "metadata": {
    "collapsed": false,
    "pycharm": {
     "name": "#%%\n"
    }
   }
  },
  {
   "cell_type": "code",
   "execution_count": 2,
   "outputs": [],
   "source": [
    "data_dir = 'D:/open/' # data_dir\n",
    "\n",
    "config_yaml_path = \"config.yaml\" # hydra config file\n",
    "ckpt_path = 'epoch=23.ckpt' # trained model weights\n",
    "\n",
    "submission_file_name = 'submission' # output file name\n"
   ],
   "metadata": {
    "collapsed": false,
    "pycharm": {
     "name": "#%%\n"
    }
   }
  },
  {
   "cell_type": "code",
   "execution_count": 3,
   "outputs": [],
   "source": [
    "def load_model_with_config(config_path, checkpoint_path):\n",
    "    config_path = config_path.replace('\\\\','/')\n",
    "    config_dir = '/'.join(config_path.split('/')[:-1])\n",
    "    config_name = config_path.split('/')[-1]\n",
    "    GlobalHydra.instance().clear()\n",
    "    hydra.initialize(config_path = config_dir)\n",
    "    cfg = hydra.compose(config_name=config_name)\n",
    "    model = hydra.utils.instantiate(cfg['framework'])\n",
    "    model.load_state_dict(torch.load(checkpoint_path, map_location='cpu')['state_dict'])\n",
    "    return model\n",
    "\n",
    "def load_datasets_with_config(config_path, data_dir, num_workers=0):\n",
    "    config_path = config_path.replace('\\\\','/')\n",
    "    config_dir = '/'.join(config_path.split('/')[:-1])\n",
    "    config_name = config_path.split('/')[-1]\n",
    "    GlobalHydra.instance().clear()\n",
    "    hydra.initialize(config_path = config_dir)\n",
    "    cfg = hydra.compose(config_name=config_name)\n",
    "    datasets = hydra.utils.instantiate(cfg['dataloader']['datasets'],\n",
    "                                       data_root=data_dir,\n",
    "                                       is_test=True,\n",
    "                                       num_workers=num_workers)\n",
    "    return datasets\n",
    "\n",
    "def get_pred(model, test_data_loader, gpus=[0]):\n",
    "    trainer = pl.Trainer(gpus=gpus)\n",
    "    preds = trainer.predict(model, test_data_loader)\n",
    "    img_idx = list(itertools.chain(*[list(pred[0]) for pred in preds]))\n",
    "    preds = torch.cat([pred[1] for pred in preds], dim=0)\n",
    "    return img_idx, preds"
   ],
   "metadata": {
    "collapsed": false,
    "pycharm": {
     "name": "#%%\n"
    }
   }
  },
  {
   "cell_type": "code",
   "execution_count": 4,
   "outputs": [],
   "source": [
    "# load_model/dataloader\n",
    "model = load_model_with_config(config_yaml_path, ckpt_path)\n",
    "datasets = load_datasets_with_config(config_yaml_path, data_dir)\n",
    "test_loader =datasets.get_test_dataloaders()"
   ],
   "metadata": {
    "collapsed": false,
    "pycharm": {
     "name": "#%%\n"
    }
   }
  },
  {
   "cell_type": "code",
   "execution_count": 5,
   "outputs": [
    {
     "name": "stderr",
     "output_type": "stream",
     "text": [
      "GPU available: True, used: True\n",
      "TPU available: False, using: 0 TPU cores\n",
      "IPU available: False, using: 0 IPUs\n",
      "LOCAL_RANK: 0 - CUDA_VISIBLE_DEVICES: [0]\n",
      "C:\\Users\\user\\anaconda3\\envs\\abnormal2\\lib\\site-packages\\pytorch_lightning\\trainer\\data_loading.py:105: UserWarning: The dataloader, predict dataloader 0, does not have many workers which may be a bottleneck. Consider increasing the value of the `num_workers` argument` (try 4 which is the number of cpus on this machine) in the `DataLoader` init to improve performance.\n",
      "  rank_zero_warn(\n"
     ]
    },
    {
     "data": {
      "text/plain": "Predicting: 0it [00:00, ?it/s]",
      "application/vnd.jupyter.widget-view+json": {
       "version_major": 2,
       "version_minor": 0,
       "model_id": "37bcefbe39014c8d8814443a3cd85c09"
      }
     },
     "metadata": {},
     "output_type": "display_data"
    }
   ],
   "source": [
    "img_idx, pred_scores = get_pred(model, test_loader)\n",
    "pred_scores = torch.argmax(pred_scores, dim=-1).detach().cpu().numpy()"
   ],
   "metadata": {
    "collapsed": false,
    "pycharm": {
     "name": "#%%\n"
    }
   }
  },
  {
   "cell_type": "code",
   "execution_count": 6,
   "outputs": [],
   "source": [
    "idx2label = datasets.get_idx2label()\n",
    "with open(f'{submission_file_name}.csv', 'w') as f:\n",
    "    f.write('index,label\\n')\n",
    "    for idx, pred_class in zip(img_idx, pred_scores):\n",
    "        f.write(f'{idx},{idx2label[pred_class]}\\n')"
   ],
   "metadata": {
    "collapsed": false,
    "pycharm": {
     "name": "#%%\n"
    }
   }
  },
  {
   "cell_type": "code",
   "execution_count": null,
   "outputs": [],
   "source": [],
   "metadata": {
    "collapsed": false,
    "pycharm": {
     "name": "#%%\n"
    }
   }
  }
 ],
 "metadata": {
  "kernelspec": {
   "name": "pycharm-5ce39102",
   "language": "python",
   "display_name": "PyCharm (AbnormalDetection)"
  },
  "language_info": {
   "codemirror_mode": {
    "name": "ipython",
    "version": 2
   },
   "file_extension": ".py",
   "mimetype": "text/x-python",
   "name": "python",
   "nbconvert_exporter": "python",
   "pygments_lexer": "ipython2",
   "version": "2.7.6"
  }
 },
 "nbformat": 4,
 "nbformat_minor": 0
}