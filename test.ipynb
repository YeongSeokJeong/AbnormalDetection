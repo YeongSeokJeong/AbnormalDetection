{
 "cells": [
  {
   "cell_type": "code",
   "execution_count": 1,
   "metadata": {
    "collapsed": true
   },
   "outputs": [],
   "source": [
    "\n",
    "import pandas as pd"
   ]
  },
  {
   "cell_type": "code",
   "execution_count": 5,
   "outputs": [],
   "source": [
    "data_table = pd.read_csv('D:/open/train_df.csv')"
   ],
   "metadata": {
    "collapsed": false,
    "pycharm": {
     "name": "#%%\n"
    }
   }
  },
  {
   "cell_type": "code",
   "execution_count": 17,
   "outputs": [
    {
     "name": "stdout",
     "output_type": "stream",
     "text": [
      "Index(['index', 'file_name', 'class', 'state', 'label'], dtype='object')\n",
      "49\n",
      "15\n"
     ]
    }
   ],
   "source": [
    "print(data_table.columns)\n",
    "print(len(set(data_table.state)))\n",
    "print(len(set(data_table['class'])))"
   ],
   "metadata": {
    "collapsed": false,
    "pycharm": {
     "name": "#%%\n"
    }
   }
  },
  {
   "cell_type": "code",
   "execution_count": 23,
   "outputs": [],
   "source": [
    "grouped_data = data_table[['class', 'state']].drop_duplicates().groupby('class')"
   ],
   "metadata": {
    "collapsed": false,
    "pycharm": {
     "name": "#%%\n"
    }
   }
  },
  {
   "cell_type": "code",
   "execution_count": 24,
   "outputs": [
    {
     "data": {
      "text/plain": "            state\nclass            \nbottle          4\ncable           9\ncapsule         6\ncarpet          6\ngrid            6\nhazelnut        5\nleather         6\nmetal_nut       5\npill            8\nscrew           6\ntile            6\ntoothbrush      2\ntransistor      5\nwood            6\nzipper          8",
      "text/html": "<div>\n<style scoped>\n    .dataframe tbody tr th:only-of-type {\n        vertical-align: middle;\n    }\n\n    .dataframe tbody tr th {\n        vertical-align: top;\n    }\n\n    .dataframe thead th {\n        text-align: right;\n    }\n</style>\n<table border=\"1\" class=\"dataframe\">\n  <thead>\n    <tr style=\"text-align: right;\">\n      <th></th>\n      <th>state</th>\n    </tr>\n    <tr>\n      <th>class</th>\n      <th></th>\n    </tr>\n  </thead>\n  <tbody>\n    <tr>\n      <th>bottle</th>\n      <td>4</td>\n    </tr>\n    <tr>\n      <th>cable</th>\n      <td>9</td>\n    </tr>\n    <tr>\n      <th>capsule</th>\n      <td>6</td>\n    </tr>\n    <tr>\n      <th>carpet</th>\n      <td>6</td>\n    </tr>\n    <tr>\n      <th>grid</th>\n      <td>6</td>\n    </tr>\n    <tr>\n      <th>hazelnut</th>\n      <td>5</td>\n    </tr>\n    <tr>\n      <th>leather</th>\n      <td>6</td>\n    </tr>\n    <tr>\n      <th>metal_nut</th>\n      <td>5</td>\n    </tr>\n    <tr>\n      <th>pill</th>\n      <td>8</td>\n    </tr>\n    <tr>\n      <th>screw</th>\n      <td>6</td>\n    </tr>\n    <tr>\n      <th>tile</th>\n      <td>6</td>\n    </tr>\n    <tr>\n      <th>toothbrush</th>\n      <td>2</td>\n    </tr>\n    <tr>\n      <th>transistor</th>\n      <td>5</td>\n    </tr>\n    <tr>\n      <th>wood</th>\n      <td>6</td>\n    </tr>\n    <tr>\n      <th>zipper</th>\n      <td>8</td>\n    </tr>\n  </tbody>\n</table>\n</div>"
     },
     "execution_count": 24,
     "metadata": {},
     "output_type": "execute_result"
    }
   ],
   "source": [
    "grouped_data.count()"
   ],
   "metadata": {
    "collapsed": false,
    "pycharm": {
     "name": "#%%\n"
    }
   }
  },
  {
   "cell_type": "code",
   "execution_count": 26,
   "outputs": [
    {
     "data": {
      "text/plain": "88"
     },
     "execution_count": 26,
     "metadata": {},
     "output_type": "execute_result"
    }
   ],
   "source": [
    "\n",
    "len(set(data_table['label']))"
   ],
   "metadata": {
    "collapsed": false,
    "pycharm": {
     "name": "#%%\n"
    }
   }
  },
  {
   "cell_type": "code",
   "execution_count": 27,
   "outputs": [],
   "source": [
    "from timm import models"
   ],
   "metadata": {
    "collapsed": false,
    "pycharm": {
     "name": "#%%\n"
    }
   }
  },
  {
   "cell_type": "code",
   "execution_count": 31,
   "outputs": [
    {
     "name": "stderr",
     "output_type": "stream",
     "text": [
      "Downloading: \"https://github.com/rwightman/pytorch-image-models/releases/download/v0.1-weights/efficientnet_b0_ra-3dd342df.pth\" to C:\\Users\\user/.cache\\torch\\hub\\checkpoints\\efficientnet_b0_ra-3dd342df.pth\n"
     ]
    }
   ],
   "source": [
    "densenet = models.create_model('efficientnet_b0', pretrained=True)"
   ],
   "metadata": {
    "collapsed": false,
    "pycharm": {
     "name": "#%%\n"
    }
   }
  },
  {
   "cell_type": "code",
   "execution_count": 32,
   "outputs": [
    {
     "data": {
      "text/plain": "1280"
     },
     "execution_count": 32,
     "metadata": {},
     "output_type": "execute_result"
    }
   ],
   "source": [
    "densenet.num_features"
   ],
   "metadata": {
    "collapsed": false,
    "pycharm": {
     "name": "#%%\n"
    }
   }
  },
  {
   "cell_type": "code",
   "execution_count": 8,
   "outputs": [
    {
     "name": "stdout",
     "output_type": "stream",
     "text": [
      "4277 4277\n"
     ]
    }
   ],
   "source": [
    "from sklearn.model_selection import StratifiedKFold\n",
    "import numpy as np\n",
    "import pandas as pd\n",
    "data_root = 'D:/open'\n",
    "dataframe = pd.read_csv(f'{data_root}/train_df.csv')\n",
    "label_df = pd.read_csv(f'{data_root}/train_df.csv')\n",
    "label_idx = {label: i for i, label in enumerate(sorted(list(set(label_df['label']))))}\n",
    "\n",
    "X = dataframe['file_name'].to_numpy()\n",
    "Y = np.array([label_idx[label] for label in dataframe['label'].to_numpy()])\n",
    "stratified_kfold = StratifiedKFold(n_splits=5, shuffle=False)\n",
    "print(len(X), len(Y))\n",
    "k = stratified_kfold.split(X, Y)"
   ],
   "metadata": {
    "collapsed": false,
    "pycharm": {
     "name": "#%%\n"
    }
   }
  },
  {
   "cell_type": "code",
   "execution_count": 9,
   "outputs": [
    {
     "data": {
      "text/plain": "array([72, 15, 72, ..., 28, 84, 55])"
     },
     "execution_count": 9,
     "metadata": {},
     "output_type": "execute_result"
    }
   ],
   "source": [
    "Y"
   ],
   "metadata": {
    "collapsed": false,
    "pycharm": {
     "name": "#%%\n"
    }
   }
  },
  {
   "cell_type": "code",
   "execution_count": 10,
   "outputs": [
    {
     "name": "stdout",
     "output_type": "stream",
     "text": [
      "3421 856\n",
      "3421 856\n",
      "3422 855\n",
      "3422 855\n",
      "3422 855\n"
     ]
    },
    {
     "name": "stderr",
     "output_type": "stream",
     "text": [
      "C:\\Users\\user\\anaconda3\\envs\\abnormal\\lib\\site-packages\\sklearn\\model_selection\\_split.py:670: UserWarning: The least populated class in y has only 4 members, which is less than n_splits=5.\n",
      "  warnings.warn((\"The least populated class in y has only %d\"\n"
     ]
    }
   ],
   "source": [
    "for train_index, valid_index in k:\n",
    "    x_train, x_valid = X[train_index], X[valid_index]\n",
    "    y_train, y_test = Y[train_index], Y[valid_index]\n",
    "    print(len(train_index), len(valid_index))"
   ],
   "metadata": {
    "collapsed": false,
    "pycharm": {
     "name": "#%%\n"
    }
   }
  },
  {
   "cell_type": "code",
   "execution_count": 92,
   "outputs": [
    {
     "data": {
      "text/plain": "(array(['10000.png', '10001.png', '10002.png', ..., '14274.png',\n        '14275.png', '14276.png'], dtype=object),\n array([], dtype=object))"
     },
     "execution_count": 92,
     "metadata": {},
     "output_type": "execute_result"
    }
   ],
   "source": [
    "x_train, x_valid"
   ],
   "metadata": {
    "collapsed": false,
    "pycharm": {
     "name": "#%%\n"
    }
   }
  },
  {
   "cell_type": "code",
   "execution_count": 11,
   "outputs": [
    {
     "data": {
      "text/plain": "'D:/file_name'"
     },
     "execution_count": 11,
     "metadata": {},
     "output_type": "execute_result"
    }
   ],
   "source": [
    "from sklearn.model_selection import StratifiedKFold\n",
    "import os\n",
    "os.path.join('D:/', 'file_name')"
   ],
   "metadata": {
    "collapsed": false,
    "pycharm": {
     "name": "#%%\n"
    }
   }
  },
  {
   "cell_type": "code",
   "execution_count": 1,
   "outputs": [],
   "source": [
    "\n",
    "import torchvision"
   ],
   "metadata": {
    "collapsed": false,
    "pycharm": {
     "name": "#%%\n"
    }
   }
  },
  {
   "cell_type": "code",
   "execution_count": null,
   "outputs": [],
   "source": [
    "torchvision.transforms.RandomHorizontalFlip()"
   ],
   "metadata": {
    "collapsed": false,
    "pycharm": {
     "name": "#%%\n"
    }
   }
  }
 ],
 "metadata": {
  "kernelspec": {
   "display_name": "Python 3",
   "language": "python",
   "name": "python3"
  },
  "language_info": {
   "codemirror_mode": {
    "name": "ipython",
    "version": 2
   },
   "file_extension": ".py",
   "mimetype": "text/x-python",
   "name": "python",
   "nbconvert_exporter": "python",
   "pygments_lexer": "ipython2",
   "version": "2.7.6"
  }
 },
 "nbformat": 4,
 "nbformat_minor": 0
}